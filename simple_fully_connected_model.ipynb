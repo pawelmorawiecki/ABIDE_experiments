{
 "cells": [
  {
   "cell_type": "code",
   "execution_count": 1,
   "metadata": {
    "collapsed": true
   },
   "outputs": [],
   "source": [
    "import torch\n",
    "import torch.nn as nn\n",
    "import torch.nn.functional as F\n",
    "import torch.optim as optim\n",
    "from torch.autograd import Variable\n",
    "from torch.utils.data import DataLoader\n",
    "from utility import save_numpy_to_h5_dataset, load_h5_dataset\n",
    "import numpy as np\n",
    "from matplotlib import pyplot as plt\n",
    "plt.ion()   # interactive mode"
   ]
  },
  {
   "cell_type": "markdown",
   "metadata": {},
   "source": [
    "Classification model with simple fully connected model. No success with this model (convergence on training set easily obtained, for validation set basically random results)"
   ]
  },
  {
   "cell_type": "code",
   "execution_count": 47,
   "metadata": {
    "collapsed": true
   },
   "outputs": [],
   "source": [
    "class simple_dense(nn.Module):\n",
    "    def __init__(self):\n",
    "        super(simple_dense, self).__init__()\n",
    "        \n",
    "        self.fc1 = nn.Linear(39*30, 50)\n",
    "        self.fc2 = nn.Linear(50, 20)\n",
    "        self.fc3 = nn.Linear(20, 2) \n",
    "\n",
    "    def forward(self, x):\n",
    "        \n",
    "        x = F.relu(self.fc1(x))\n",
    "        F.dropout(x, p=0.5, training=self.training)\n",
    "        x = F.relu(self.fc2(x))\n",
    "        F.dropout(x, p=0.5, training=self.training)\n",
    "        x = F.relu(self.fc3(x))\n",
    "        return x"
   ]
  },
  {
   "cell_type": "code",
   "execution_count": 3,
   "metadata": {
    "collapsed": true
   },
   "outputs": [],
   "source": [
    "CUDA = True\n",
    "BATCH_SIZE = 32"
   ]
  },
  {
   "cell_type": "code",
   "execution_count": 4,
   "metadata": {
    "collapsed": false
   },
   "outputs": [],
   "source": [
    "X = load_h5_dataset('X.h5')\n",
    "Y = load_h5_dataset('Y.h5')"
   ]
  },
  {
   "cell_type": "code",
   "execution_count": 5,
   "metadata": {
    "collapsed": false
   },
   "outputs": [
    {
     "name": "stdout",
     "output_type": "stream",
     "text": [
      "(1034, 39, 60)\n"
     ]
    }
   ],
   "source": [
    "print (X.shape)"
   ]
  },
  {
   "cell_type": "code",
   "execution_count": 6,
   "metadata": {
    "collapsed": false
   },
   "outputs": [],
   "source": [
    "X = X.astype('float32')"
   ]
  },
  {
   "cell_type": "code",
   "execution_count": 7,
   "metadata": {
    "collapsed": true
   },
   "outputs": [],
   "source": [
    "X = X[:,:,:30]"
   ]
  },
  {
   "cell_type": "code",
   "execution_count": 9,
   "metadata": {
    "collapsed": true
   },
   "outputs": [],
   "source": [
    "X = np.reshape(X, (X.shape[0], X.shape[1]*X.shape[2]))"
   ]
  },
  {
   "cell_type": "code",
   "execution_count": 10,
   "metadata": {
    "collapsed": false
   },
   "outputs": [
    {
     "data": {
      "text/plain": [
       "(1034, 1170)"
      ]
     },
     "execution_count": 10,
     "metadata": {},
     "output_type": "execute_result"
    }
   ],
   "source": [
    "X.shape"
   ]
  },
  {
   "cell_type": "code",
   "execution_count": 11,
   "metadata": {
    "collapsed": true
   },
   "outputs": [],
   "source": [
    "np.random.seed(100) #seed fixed for reproducibility\n",
    "mask = np.random.rand(len(X)) < 0.9  #array of boolean variables\n",
    "\n",
    "training_images = X[mask]\n",
    "training_labels = Y[mask]\n",
    "\n",
    "validation_images = X[~mask]\n",
    "validation_labels = Y[~mask]\n",
    "\n",
    "training_images = torch.from_numpy(training_images) #convert to torch tensor\n",
    "training_labels = torch.from_numpy(training_labels) #convert to torch tensor\n",
    "\n",
    "validation_images = torch.from_numpy(validation_images) #convert to torch tensor\n",
    "validation_labels = torch.from_numpy(validation_labels) #convert to torch tensor"
   ]
  },
  {
   "cell_type": "code",
   "execution_count": 12,
   "metadata": {
    "collapsed": true
   },
   "outputs": [],
   "source": [
    "training_labels = training_labels.long()\n",
    "validation_labels = validation_labels.long()"
   ]
  },
  {
   "cell_type": "code",
   "execution_count": 13,
   "metadata": {
    "collapsed": true
   },
   "outputs": [],
   "source": [
    "train_dataset = torch.utils.data.TensorDataset(training_images, training_labels)\n",
    "train_loader = DataLoader(train_dataset, batch_size=BATCH_SIZE, shuffle=True)\n",
    "\n",
    "validation_dataset = torch.utils.data.TensorDataset(validation_images, validation_labels)\n",
    "validation_loader = DataLoader(validation_dataset, batch_size=BATCH_SIZE, shuffle=True)"
   ]
  },
  {
   "cell_type": "code",
   "execution_count": 48,
   "metadata": {
    "collapsed": true
   },
   "outputs": [],
   "source": [
    "net = simple_dense()"
   ]
  },
  {
   "cell_type": "code",
   "execution_count": 49,
   "metadata": {
    "collapsed": true
   },
   "outputs": [],
   "source": [
    "criterion = nn.CrossEntropyLoss()\n",
    "net.cuda()\n",
    "optimizer = optim.Adam(net.parameters(), lr=1e-4)"
   ]
  },
  {
   "cell_type": "code",
   "execution_count": 50,
   "metadata": {
    "collapsed": true
   },
   "outputs": [],
   "source": [
    "EPOCHS = 20"
   ]
  },
  {
   "cell_type": "code",
   "execution_count": 52,
   "metadata": {
    "collapsed": false
   },
   "outputs": [
    {
     "name": "stdout",
     "output_type": "stream",
     "text": [
      "Epoch 1, loss: 0.613\n",
      "Epoch 1, validation loss: 0.726\n",
      "Epoch 2, loss: 0.609\n",
      "Epoch 2, validation loss: 0.715\n",
      "Epoch 3, loss: 0.606\n",
      "Epoch 3, validation loss: 0.713\n",
      "Epoch 4, loss: 0.604\n",
      "Epoch 4, validation loss: 0.719\n",
      "Epoch 5, loss: 0.600\n",
      "Epoch 5, validation loss: 0.726\n",
      "Epoch 6, loss: 0.593\n",
      "Epoch 6, validation loss: 0.718\n",
      "Epoch 7, loss: 0.591\n",
      "Epoch 7, validation loss: 0.723\n",
      "Epoch 8, loss: 0.586\n",
      "Epoch 8, validation loss: 0.726\n",
      "Epoch 9, loss: 0.581\n",
      "Epoch 9, validation loss: 0.727\n",
      "Epoch 10, loss: 0.578\n",
      "Epoch 10, validation loss: 0.741\n",
      "Epoch 11, loss: 0.575\n",
      "Epoch 11, validation loss: 0.738\n",
      "Epoch 12, loss: 0.569\n",
      "Epoch 12, validation loss: 0.739\n",
      "Epoch 13, loss: 0.565\n",
      "Epoch 13, validation loss: 0.737\n",
      "Epoch 14, loss: 0.566\n",
      "Epoch 14, validation loss: 0.736\n",
      "Epoch 15, loss: 0.558\n",
      "Epoch 15, validation loss: 0.739\n",
      "Epoch 16, loss: 0.557\n",
      "Epoch 16, validation loss: 0.739\n",
      "Epoch 17, loss: 0.551\n",
      "Epoch 17, validation loss: 0.745\n",
      "Epoch 18, loss: 0.547\n",
      "Epoch 18, validation loss: 0.751\n",
      "Epoch 19, loss: 0.545\n",
      "Epoch 19, validation loss: 0.754\n",
      "Epoch 20, loss: 0.538\n",
      "Epoch 20, validation loss: 0.756\n"
     ]
    }
   ],
   "source": [
    "# TRAINING #\n",
    "\n",
    "\n",
    "for epoch in range(EPOCHS):  \n",
    "    net.train()\n",
    "    running_loss = 0.0\n",
    "    for j, data in enumerate(train_loader, 0):\n",
    "            # get the inputs\n",
    "            inputs, labels = data\n",
    "            batch_length = len(inputs) #length of the current batch\n",
    "            \n",
    "            # wrap them in Variable\n",
    "            if (CUDA):\n",
    "                inputs, labels = Variable(inputs.cuda()), Variable(labels.cuda())\n",
    "            else:\n",
    "                inputs, labels = Variable(inputs), Variable(labels)\n",
    "\n",
    "            # zero the parameter gradients\n",
    "            optimizer.zero_grad()\n",
    "\n",
    "            # forward + backward + optimize\n",
    "            output = net(inputs)\n",
    "                    \n",
    "            loss = criterion(output, labels)\n",
    "            running_loss += loss.data[0]*batch_length\n",
    "            loss.backward()\n",
    "            optimizer.step()\n",
    "            \n",
    "    print('Epoch %d, loss: %.3f' % (epoch + 1, running_loss / len(training_images)))     \n",
    "    \n",
    "    \n",
    "    #VALIDATION\n",
    "    net.eval()\n",
    "    running_loss = 0.0\n",
    "    for j, data in enumerate(validation_loader, 0):\n",
    "            # get the inputs\n",
    "            inputs, labels = data\n",
    "            batch_length = len(inputs) #length of the current batch\n",
    "            \n",
    "            # wrap them in Variable\n",
    "            if (CUDA):\n",
    "                inputs, labels = Variable(inputs.cuda()), Variable(labels.cuda())\n",
    "            else:\n",
    "                inputs, labels = Variable(inputs), Variable(labels)\n",
    "\n",
    "            # forward\n",
    "            output = net(inputs)\n",
    "                    \n",
    "            loss = criterion(output, labels)\n",
    "            running_loss += loss.data[0]*batch_length\n",
    "            \n",
    "    print('Epoch %d, validation loss: %.3f' % (epoch + 1, running_loss / len(validation_images)))     \n",
    "    \n",
    "    \n",
    "    \n",
    "    "
   ]
  }
 ],
 "metadata": {
  "anaconda-cloud": {},
  "kernelspec": {
   "display_name": "Python [conda env:Anaconda3]",
   "language": "python",
   "name": "conda-env-Anaconda3-py"
  },
  "language_info": {
   "codemirror_mode": {
    "name": "ipython",
    "version": 3
   },
   "file_extension": ".py",
   "mimetype": "text/x-python",
   "name": "python",
   "nbconvert_exporter": "python",
   "pygments_lexer": "ipython3",
   "version": "3.5.2"
  }
 },
 "nbformat": 4,
 "nbformat_minor": 1
}
